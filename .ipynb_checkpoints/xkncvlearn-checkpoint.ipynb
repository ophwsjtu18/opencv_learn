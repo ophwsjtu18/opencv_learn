{
 "cells": [
  {
   "cell_type": "markdown",
   "metadata": {},
   "source": [
    "## 基本语句测试"
   ]
  },
  {
   "cell_type": "code",
   "execution_count": 1,
   "metadata": {},
   "outputs": [
    {
     "name": "stdout",
     "output_type": "stream",
     "text": [
      "hello world\n"
     ]
    }
   ],
   "source": [
    "print(\"hello world\")"
   ]
  },
  {
   "cell_type": "code",
   "execution_count": 2,
   "metadata": {},
   "outputs": [],
   "source": [
    "f=open(\"roof.csv\",\"w\")\n",
    "data=\"1,0,0,0,0,0,0,0,0,0\\n0,0,0,0,0,0,0,0,0,0\\n0,0,0,0,0,0,0,0,0,0\\n0,0,0,0,0,0,0,0,0,0\\n0,0,0,0,0,0,0,0,0,0\\n0,0,0,0,0,0,0,0,0,0\\n0,0,0,0,0,0,0,0,0,0\\n0,0,0,0,0,0,0,0,0,0\\n0,0,0,0,0,0,0,0,0,0\\n0,0,0,0,0,0,0,0,0,0\\n\"\n",
    "f.write(data)\n",
    "f.close()\n"
   ]
  },
  {
   "cell_type": "code",
   "execution_count": 2,
   "metadata": {},
   "outputs": [
    {
     "name": "stdout",
     "output_type": "stream",
     "text": [
      "hello world 0\n",
      "hello world 1\n",
      "hello world 2\n",
      "hello world 3\n",
      "hello world 4\n",
      "hello world 5\n",
      "hello world 6\n",
      "hello world 7\n",
      "hello world 8\n",
      "hello world 9\n"
     ]
    }
   ],
   "source": [
    "for i in range(10):\n",
    "    print(\"hello world\",i)"
   ]
  },
  {
   "cell_type": "markdown",
   "metadata": {},
   "source": [
    "## 插入一张图"
   ]
  },
  {
   "cell_type": "markdown",
   "metadata": {},
   "source": [
    "![](123.jpg)"
   ]
  },
  {
   "cell_type": "markdown",
   "metadata": {},
   "source": [
    "## 显示一张图，按任意键返回"
   ]
  },
  {
   "cell_type": "code",
   "execution_count": null,
   "metadata": {},
   "outputs": [],
   "source": [
    "import numpy as np\n",
    "import cv2\n",
    "img=cv2.imread(\"123.jpg\")\n",
    "\n",
    "cv2.namedWindow('image', cv2.WINDOW_NORMAL)\n",
    "cv2.imshow(\"image\",img)\n",
    "\n",
    "cv2.waitKey(0)\n",
    "cv2.destroyAllWindows()"
   ]
  },
  {
   "cell_type": "markdown",
   "metadata": {},
   "source": [
    "## 显示一张图，按q键返回,每1000毫秒检测一次"
   ]
  },
  {
   "cell_type": "code",
   "execution_count": 9,
   "metadata": {},
   "outputs": [
    {
     "name": "stdout",
     "output_type": "stream",
     "text": [
      "show\n",
      "show\n",
      "show\n",
      "show\n",
      "show\n"
     ]
    }
   ],
   "source": [
    "import numpy as np\n",
    "import cv2\n",
    "img=cv2.imread(\"123.jpg\",0)\n",
    "\n",
    "while(True):\n",
    "    cv2.namedWindow('image', cv2.WINDOW_NORMAL)\n",
    "    cv2.imshow(\"image\",img)\n",
    "    print(\"show\")\n",
    "    if cv2.waitKey(1000) & 0xFF == ord('q'):\n",
    "         break;\n",
    "\n",
    "cv2.destroyAllWindows()"
   ]
  },
  {
   "cell_type": "markdown",
   "metadata": {},
   "source": [
    "## 抓取摄像头一张图，显示出来，按q键返回,每1000毫秒检测一次\n"
   ]
  },
  {
   "cell_type": "code",
   "execution_count": 10,
   "metadata": {},
   "outputs": [],
   "source": [
    "import numpy as np\n",
    "import cv2\n",
    "cap = cv2.VideoCapture(0)\n",
    "while(True):\n",
    "    ret, frame = cap.read()\n",
    "    cv2.imshow('my_frame',frame)\n",
    "    if cv2.waitKey(1000) & 0xFF == ord('q'):\n",
    "        break\n",
    "        \n",
    "cap.release()\n",
    "cv2.destroyAllWindows()\n"
   ]
  },
  {
   "cell_type": "markdown",
   "metadata": {},
   "source": [
    "#  刘鑫华的代码"
   ]
  },
  {
   "cell_type": "code",
   "execution_count": 1,
   "metadata": {},
   "outputs": [],
   "source": [
    "import numpy as np\n",
    "import cv2\n",
    "cap = cv2.VideoCapture(0)\n",
    "while(True):\n",
    "    ret, frame = cap.read()\n",
    "    cv2.imshow('my_frame',frame)\n",
    "    if cv2.waitKey(1000) & 0xFF == ord('q'):\n",
    "        break\n",
    "        \n",
    "cap.release()\n",
    "cv2.destroyAllWindows()"
   ]
  },
  {
   "cell_type": "markdown",
   "metadata": {},
   "source": [
    "#倪晨阳的代码\n"
   ]
  },
  {
   "cell_type": "code",
   "execution_count": 2,
   "metadata": {},
   "outputs": [
    {
     "name": "stdout",
     "output_type": "stream",
     "text": [
      "480 640\n"
     ]
    }
   ],
   "source": [
    "import numpy as np\n",
    "import cv2\n",
    "\n",
    "\n",
    "cap=cv2.VideoCapture(0)\n",
    "ret,frame= cap.read()\n",
    "\n",
    "L=len(frame)\n",
    "W=len(frame[0])\n",
    "\n",
    "print(L,W)\n",
    "\n",
    "SIZE=100\n",
    "\n",
    "xo=int(W/2-1.5*SIZE)\n",
    "yo=int(L/2-1.5*SIZE)\n",
    "\n",
    "while(True):\n",
    "    ret,frame = cap.read()\n",
    "    for i in range(3):\n",
    "        for j in range(3):\n",
    "            cv2.rectangle(frame,(i*100+xo,j*100+yo),(i*100+100+xo,j*100+100+yo),(255,128,255),5)\n",
    "    cv2.imshow('my_frame',frame)\n",
    "    if cv2.waitKey(1000)&0xFF==ord('p'):\n",
    "        break\n",
    "cap.release()\n",
    "cv2.destroyAllWindows()"
   ]
  },
  {
   "cell_type": "code",
   "execution_count": 7,
   "metadata": {},
   "outputs": [
    {
     "ename": "AttributeError",
     "evalue": "module 'cv2.cv2' has no attribute 'destoryAllWindows'",
     "output_type": "error",
     "traceback": [
      "\u001b[1;31m---------------------------------------------------------------------------\u001b[0m",
      "\u001b[1;31mAttributeError\u001b[0m                            Traceback (most recent call last)",
      "\u001b[1;32m<ipython-input-7-57622cfba1ca>\u001b[0m in \u001b[0;36m<module>\u001b[1;34m()\u001b[0m\n\u001b[0;32m      9\u001b[0m \u001b[1;33m\u001b[0m\u001b[0m\n\u001b[0;32m     10\u001b[0m \u001b[0mcap\u001b[0m\u001b[1;33m.\u001b[0m\u001b[0mrelease\u001b[0m\u001b[1;33m(\u001b[0m\u001b[1;33m)\u001b[0m\u001b[1;33m\u001b[0m\u001b[0m\n\u001b[1;32m---> 11\u001b[1;33m \u001b[0mcv2\u001b[0m\u001b[1;33m.\u001b[0m\u001b[0mdestoryAllWindows\u001b[0m\u001b[1;33m(\u001b[0m\u001b[1;33m)\u001b[0m\u001b[1;33m\u001b[0m\u001b[0m\n\u001b[0m",
      "\u001b[1;31mAttributeError\u001b[0m: module 'cv2.cv2' has no attribute 'destoryAllWindows'"
     ]
    }
   ],
   "source": [
    "import numpy as np\n",
    "import cv2\n",
    "cap = cv2.VideoCapture(0)\n",
    "while(True):\n",
    "    ret, frame = cap.read()\n",
    "    cv2.imshow('my_frame',frame)\n",
    "    if cv2.waitKey(1000) & 0xFF == ord('q'):\n",
    "        break\n",
    "\n",
    "cap.release()\n",
    "cv2.destoryAllWindows()"
   ]
  },
  {
   "cell_type": "code",
   "execution_count": 3,
   "metadata": {},
   "outputs": [
    {
     "name": "stdout",
     "output_type": "stream",
     "text": [
      "480\n",
      "640\n",
      "480\n",
      "640\n",
      "480\n",
      "640\n",
      "480\n",
      "640\n",
      "480\n",
      "640\n",
      "480\n",
      "640\n",
      "480\n",
      "640\n",
      "480\n",
      "640\n",
      "480\n",
      "640\n",
      "480\n",
      "640\n",
      "480\n",
      "640\n",
      "480\n",
      "640\n",
      "480\n",
      "640\n",
      "480\n",
      "640\n",
      "480\n",
      "640\n"
     ]
    },
    {
     "ename": "AttributeError",
     "evalue": "module 'cv2.cv2' has no attribute 'destoryAllWindows'",
     "output_type": "error",
     "traceback": [
      "\u001b[1;31m---------------------------------------------------------------------------\u001b[0m",
      "\u001b[1;31mAttributeError\u001b[0m                            Traceback (most recent call last)",
      "\u001b[1;32m<ipython-input-3-d1481131bdfb>\u001b[0m in \u001b[0;36m<module>\u001b[1;34m()\u001b[0m\n\u001b[0;32m     13\u001b[0m         \u001b[1;32mbreak\u001b[0m\u001b[1;33m\u001b[0m\u001b[0m\n\u001b[0;32m     14\u001b[0m \u001b[0mcap\u001b[0m\u001b[1;33m.\u001b[0m\u001b[0mrelease\u001b[0m\u001b[1;33m(\u001b[0m\u001b[1;33m)\u001b[0m\u001b[1;33m\u001b[0m\u001b[0m\n\u001b[1;32m---> 15\u001b[1;33m \u001b[0mcv2\u001b[0m\u001b[1;33m.\u001b[0m\u001b[0mdestoryAllWindows\u001b[0m\u001b[1;33m(\u001b[0m\u001b[1;33m)\u001b[0m\u001b[1;33m\u001b[0m\u001b[0m\n\u001b[0m",
      "\u001b[1;31mAttributeError\u001b[0m: module 'cv2.cv2' has no attribute 'destoryAllWindows'"
     ]
    }
   ],
   "source": [
    "import numpy as np\n",
    "import cv2\n",
    "cap=cv2.VideoCapture(0)\n",
    "while(True):\n",
    "    ret,frame = cap.read()\n",
    "    for i in range(3):\n",
    "        for j in range(3):\n",
    "            cv2.rectangle(frame,(i*100,j*100),(i*100+100,j*100+100),(255,128,255),5)  \n",
    "    print(len(frame))\n",
    "    print(len(frame[0]))\n",
    "    cv2.imshow('my_frame',frame)\n",
    "    if cv2.waitKey(1000)&0xFF==ord('p'):\n",
    "        break\n",
    "cap.release()\n",
    "cv2.destoryAllWindows()"
   ]
  },
  {
   "cell_type": "markdown",
   "metadata": {},
   "source": [
    "#刘彦博的代码"
   ]
  },
  {
   "cell_type": "code",
   "execution_count": 6,
   "metadata": {},
   "outputs": [
    {
     "name": "stdout",
     "output_type": "stream",
     "text": [
      "480 640\n"
     ]
    },
    {
     "ename": "NameError",
     "evalue": "name 'destroyAllWindows' is not defined",
     "output_type": "error",
     "traceback": [
      "\u001b[1;31m---------------------------------------------------------------------------\u001b[0m",
      "\u001b[1;31mNameError\u001b[0m                                 Traceback (most recent call last)",
      "\u001b[1;32m<ipython-input-6-f7bd82d53455>\u001b[0m in \u001b[0;36m<module>\u001b[1;34m()\u001b[0m\n\u001b[0;32m     19\u001b[0m         \u001b[1;32mbreak\u001b[0m\u001b[1;33m\u001b[0m\u001b[0m\n\u001b[0;32m     20\u001b[0m     \u001b[0mcap\u001b[0m\u001b[1;33m.\u001b[0m\u001b[0mrelease\u001b[0m\u001b[1;33m(\u001b[0m\u001b[1;33m)\u001b[0m\u001b[1;33m\u001b[0m\u001b[0m\n\u001b[1;32m---> 21\u001b[1;33m     \u001b[0mcv2\u001b[0m\u001b[1;33m,\u001b[0m\u001b[0mdestroyAllWindows\u001b[0m\u001b[1;33m(\u001b[0m\u001b[1;33m)\u001b[0m\u001b[1;33m\u001b[0m\u001b[0m\n\u001b[0m",
      "\u001b[1;31mNameError\u001b[0m: name 'destroyAllWindows' is not defined"
     ]
    }
   ],
   "source": [
    "import numpy as np\n",
    "import cv2\n",
    "cap=cv2.VideoCapture(0)\n",
    "ret,frame=cap.read()\n",
    "L=len(frame)\n",
    "W=len(frame[0])\n",
    "print(L,W)\n",
    "SIZE=100\n",
    "XO=int(W/2-1.5*SIZE)\n",
    "YO=int(L/2-1.5*SIZE)\n",
    "\n",
    "while(True):\n",
    "    ret, frame = cap.read()\n",
    "    for i in range(3):\n",
    "        for j in range(3):\n",
    "            cv2.rectangle(frame,(i*SIZE+XO,j*SIZE+YO),(i*SIZE+SIZE+XO,j*SIZE+SIZE+YO),(255,188,255),)\n",
    "    cv2.imshow('frame',frame)\n",
    "    if cv2.waitKey(1000)&0xFF==ord('q'):\n",
    "        break\n",
    "    cap.release()\n",
    "    cv2,destroyAllWindows()\n"
   ]
  },
  {
   "cell_type": "code",
   "execution_count": 4,
   "metadata": {},
   "outputs": [
    {
     "name": "stdout",
     "output_type": "stream",
     "text": [
      "480\n",
      "640\n",
      "480\n",
      "640\n",
      "480\n",
      "640\n",
      "480\n",
      "640\n",
      "480\n",
      "640\n",
      "480\n",
      "640\n",
      "480\n",
      "640\n",
      "480\n",
      "640\n",
      "480\n",
      "640\n",
      "480\n",
      "640\n",
      "480\n",
      "640\n",
      "480\n",
      "640\n",
      "480\n",
      "640\n",
      "480\n",
      "640\n",
      "480\n",
      "640\n",
      "480\n",
      "640\n",
      "480\n",
      "640\n",
      "480\n",
      "640\n",
      "480\n",
      "640\n",
      "480\n",
      "640\n",
      "480\n",
      "640\n",
      "480\n",
      "640\n",
      "480\n",
      "640\n",
      "480\n",
      "640\n",
      "480\n",
      "640\n",
      "480\n",
      "640\n",
      "480\n",
      "640\n",
      "480\n",
      "640\n",
      "480\n",
      "640\n",
      "480\n",
      "640\n",
      "480\n",
      "640\n",
      "480\n",
      "640\n",
      "480\n",
      "640\n",
      "480\n",
      "640\n",
      "480\n",
      "640\n",
      "480\n",
      "640\n",
      "480\n",
      "640\n",
      "480\n",
      "640\n",
      "480\n",
      "640\n",
      "480\n",
      "640\n",
      "480\n",
      "640\n",
      "480\n",
      "640\n",
      "480\n",
      "640\n",
      "480\n",
      "640\n",
      "480\n",
      "640\n",
      "480\n",
      "640\n",
      "480\n",
      "640\n"
     ]
    }
   ],
   "source": [
    "import numpy as np\n",
    "import cv2\n",
    "cap=cv2.VideoCapture(0)\n",
    "while(True):\n",
    "    ret, frame = cap.read()\n",
    "    for i in range(3):\n",
    "        for j in range(3):\n",
    "            \n",
    "            cv2.rectangle(frame,(i*100,j*100),(i*100+100,j*100+100),(255,128,255),5)\n",
    "    print(len(frame))\n",
    "    print(len(frame[0]))\n",
    "    cv2.imshow('my_frame',frame)\n",
    "    if cv2.waitKey(1000)&0xFF==ord('q'):\n",
    "        break\n",
    "cap.release()\n",
    "cv2.destroyAllWindows()"
   ]
  },
  {
   "cell_type": "markdown",
   "metadata": {},
   "source": [
    "# 朱传义"
   ]
  },
  {
   "cell_type": "code",
   "execution_count": 23,
   "metadata": {},
   "outputs": [],
   "source": [
    "import numpy as np\n",
    "import cv2\n",
    "cap = cv2.VideoCapture(0)\n",
    "while(True):\n",
    "    ret,frame = cap.read()\n",
    "    cv2.imshow('my_frame',frame)\n",
    "    if cv2.waitKey(1000) & 0xFF == ord('q'):\n",
    "        break\n",
    "\n",
    "cap.release()\n",
    "cv2.destroyAllWindows()\n"
   ]
  },
  {
   "cell_type": "markdown",
   "metadata": {},
   "source": [
    "## 在视频左上角添加一个矩形白框,框的粗细为5个像素"
   ]
  },
  {
   "cell_type": "code",
   "execution_count": null,
   "metadata": {},
   "outputs": [],
   "source": [
    "import numpy as np\n",
    "import cv2\n",
    "cap = cv2.VideoCapture(0)\n",
    "while(True):\n",
    "    ret, frame = cap.read()\n",
    "    cv2.rectangle(frame,(0,0),(100,100),(255,128,255),5)\n",
    "    print(len(frame))\n",
    "    print(len(frame[0]))\n",
    "    cv2.imshow('my_frame',frame)\n",
    "    if cv2.waitKey(1000) & 0xFF == ord('q'):\n",
    "        break\n",
    "cap.release()\n",
    "cv2.destroyAllWindows()"
   ]
  },
  {
   "cell_type": "markdown",
   "metadata": {},
   "source": [
    "## 在视频正中间画一个正方形的绿框,用len获得长宽"
   ]
  },
  {
   "cell_type": "code",
   "execution_count": 22,
   "metadata": {},
   "outputs": [
    {
     "name": "stdout",
     "output_type": "stream",
     "text": [
      "lenth 640 witdth 480\n",
      "lenth 640 witdth 480\n"
     ]
    }
   ],
   "source": [
    "import numpy as np\n",
    "import cv2\n",
    "cap = cv2.VideoCapture(0)\n",
    "while(True):\n",
    "    ret, frame = cap.read()\n",
    "    lenth=int(len(frame[0]))\n",
    "    width=int(len(frame))\n",
    "    print(\"lenth\",lenth,\"witdth\",width)\n",
    "    cv2.rectangle(frame,(int(lenth/2-50),int(width/2-50)),(int(lenth/2+50),int(width/2+50)),(25,128,25),5)\n",
    "    cv2.imshow('frame',frame)\n",
    "    if cv2.waitKey(1000) & 0xFF == ord('q'):\n",
    "        break\n",
    "        \n",
    "cap.release()\n",
    "cv2.destroyAllWindows()"
   ]
  },
  {
   "cell_type": "markdown",
   "metadata": {},
   "source": [
    "## 双击鼠标左键，在中心点画一个圆 ,再次双击消失"
   ]
  },
  {
   "cell_type": "code",
   "execution_count": 2,
   "metadata": {},
   "outputs": [
    {
     "name": "stdout",
     "output_type": "stream",
     "text": [
      "['EVENT_FLAG_ALTKEY', 'EVENT_FLAG_CTRLKEY', 'EVENT_FLAG_LBUTTON', 'EVENT_FLAG_MBUTTON', 'EVENT_FLAG_RBUTTON', 'EVENT_FLAG_SHIFTKEY', 'EVENT_LBUTTONDBLCLK', 'EVENT_LBUTTONDOWN', 'EVENT_LBUTTONUP', 'EVENT_MBUTTONDBLCLK', 'EVENT_MBUTTONDOWN', 'EVENT_MBUTTONUP', 'EVENT_MOUSEHWHEEL', 'EVENT_MOUSEMOVE', 'EVENT_MOUSEWHEEL', 'EVENT_RBUTTONDBLCLK', 'EVENT_RBUTTONDOWN', 'EVENT_RBUTTONUP']\n"
     ]
    }
   ],
   "source": [
    "import numpy as np\n",
    "import cv2\n",
    "import time\n",
    "cap = cv2.VideoCapture(0)\n",
    "\n",
    "#显示所有事件\n",
    "events=[i for i in dir(cv2) if 'EVENT'in i]\n",
    "print(events)\n",
    "\n",
    "havedoubleclick=0\n",
    "\n",
    "def draw_circle(event,x,y,flags,param):\n",
    "    global havedoubleclick\n",
    "    if event==cv2.EVENT_LBUTTONDBLCLK:\n",
    "        havedoubleclick+=1\n",
    "#       print(\"get double click\")\n",
    "        \n",
    "ret, frame = cap.read()\n",
    "# 创建图像与窗口并将窗口与回调函数绑定\n",
    "cv2.namedWindow('frame')\n",
    "cv2.setMouseCallback('frame',draw_circle)\n",
    "\n",
    "while(True):\n",
    "    ret, frame = cap.read()\n",
    "    lenth=int(len(frame[0]))\n",
    "    width=int(len(frame))\n",
    "    cv2.rectangle(frame,(int(lenth/2-50),int(width/2-50)),(int(lenth/2+50),int(width/2+50)),(25,128,25),5)\n",
    "    if havedoubleclick %2 == 0:\n",
    "        cv2.circle(frame,(int(lenth/2),int(width/2)),100,(255,0,0),-1)        \n",
    "    cv2.imshow('frame',frame)\n",
    "    if cv2.waitKey(1000) & 0xFF == ord('q'):\n",
    "        break\n",
    "        \n",
    "cap.release()\n",
    "cv2.destroyAllWindows()"
   ]
  },
  {
   "cell_type": "markdown",
   "metadata": {},
   "source": [
    "# 在图像中截取一个矩形，在另一个窗口显示，保存到另一个文件"
   ]
  },
  {
   "cell_type": "code",
   "execution_count": 5,
   "metadata": {},
   "outputs": [],
   "source": [
    "import numpy as np\n",
    "import cv2\n",
    "img=cv2.imread(\"123.jpg\")\n",
    "\n",
    "cv2.namedWindow('image', cv2.WINDOW_NORMAL)\n",
    "cv2.imshow(\"image\",img)\n",
    "\n",
    "cropImg=img[300:400,0:100]\n",
    "cv2.namedWindow('imagecrop', cv2.WINDOW_NORMAL)\n",
    "cv2.imshow(\"imagecrop\",cropImg)\n",
    "\n",
    "cv2.imwrite(\"crop.jpg\",cropImg) \n",
    "\n",
    "cv2.waitKey(0)\n",
    "cv2.destroyAllWindows()"
   ]
  },
  {
   "cell_type": "markdown",
   "metadata": {},
   "source": [
    "# 将一个大图像保存为10x10个小图像文件"
   ]
  },
  {
   "cell_type": "code",
   "execution_count": 3,
   "metadata": {},
   "outputs": [
    {
     "name": "stdout",
     "output_type": "stream",
     "text": [
      "lenth 599\n",
      "width 1027\n",
      "crop00.jpg\n",
      "crop01.jpg\n",
      "crop02.jpg\n",
      "crop03.jpg\n",
      "crop04.jpg\n",
      "crop05.jpg\n",
      "crop06.jpg\n",
      "crop07.jpg\n",
      "crop08.jpg\n",
      "crop09.jpg\n",
      "crop10.jpg\n",
      "crop11.jpg\n",
      "crop12.jpg\n",
      "crop13.jpg\n",
      "crop14.jpg\n",
      "crop15.jpg\n",
      "crop16.jpg\n",
      "crop17.jpg\n",
      "crop18.jpg\n",
      "crop19.jpg\n",
      "crop20.jpg\n",
      "crop21.jpg\n",
      "crop22.jpg\n",
      "crop23.jpg\n",
      "crop24.jpg\n",
      "crop25.jpg\n",
      "crop26.jpg\n",
      "crop27.jpg\n",
      "crop28.jpg\n",
      "crop29.jpg\n",
      "crop30.jpg\n",
      "crop31.jpg\n",
      "crop32.jpg\n",
      "crop33.jpg\n",
      "crop34.jpg\n",
      "crop35.jpg\n",
      "crop36.jpg\n",
      "crop37.jpg\n",
      "crop38.jpg\n",
      "crop39.jpg\n",
      "crop40.jpg\n",
      "crop41.jpg\n",
      "crop42.jpg\n",
      "crop43.jpg\n",
      "crop44.jpg\n",
      "crop45.jpg\n",
      "crop46.jpg\n",
      "crop47.jpg\n",
      "crop48.jpg\n",
      "crop49.jpg\n",
      "crop50.jpg\n",
      "crop51.jpg\n",
      "crop52.jpg\n",
      "crop53.jpg\n",
      "crop54.jpg\n",
      "crop55.jpg\n",
      "crop56.jpg\n",
      "crop57.jpg\n",
      "crop58.jpg\n",
      "crop59.jpg\n",
      "crop60.jpg\n",
      "crop61.jpg\n",
      "crop62.jpg\n",
      "crop63.jpg\n",
      "crop64.jpg\n",
      "crop65.jpg\n",
      "crop66.jpg\n",
      "crop67.jpg\n",
      "crop68.jpg\n",
      "crop69.jpg\n",
      "crop70.jpg\n",
      "crop71.jpg\n",
      "crop72.jpg\n",
      "crop73.jpg\n",
      "crop74.jpg\n",
      "crop75.jpg\n",
      "crop76.jpg\n",
      "crop77.jpg\n",
      "crop78.jpg\n",
      "crop79.jpg\n",
      "crop80.jpg\n",
      "crop81.jpg\n",
      "crop82.jpg\n",
      "crop83.jpg\n",
      "crop84.jpg\n",
      "crop85.jpg\n",
      "crop86.jpg\n",
      "crop87.jpg\n",
      "crop88.jpg\n",
      "crop89.jpg\n",
      "crop90.jpg\n",
      "crop91.jpg\n",
      "crop92.jpg\n",
      "crop93.jpg\n",
      "crop94.jpg\n",
      "crop95.jpg\n",
      "crop96.jpg\n",
      "crop97.jpg\n",
      "crop98.jpg\n",
      "crop99.jpg\n"
     ]
    }
   ],
   "source": [
    "import numpy as np\n",
    "import cv2\n",
    "\n",
    "img=cv2.imread(\"123.jpg\")\n",
    "\n",
    "lenth=len(img)\n",
    "width=len(img[0])\n",
    "\n",
    "print(\"lenth\",lenth)\n",
    "print(\"width\",width)\n",
    "\n",
    "L=int(lenth/10)\n",
    "W=int(width/10)\n",
    "\n",
    "cv2.namedWindow('image', cv2.WINDOW_NORMAL)\n",
    "\n",
    "for ln in range(10):\n",
    "    for wn in range(10):\n",
    "        cropImg=img[ln*L:(ln+1)*L,wn*W:(wn+1)*W]\n",
    "        cv2.imshow(\"image\",cropImg)\n",
    "        cv2.waitKey(100)        \n",
    "        filename=\"crop\"+str(ln)+str(wn)+\".jpg\"\n",
    "        print(filename)\n",
    "        cv2.imwrite(filename,cropImg) \n",
    "\n",
    "cv2.destroyAllWindows()"
   ]
  },
  {
   "cell_type": "markdown",
   "metadata": {},
   "source": [
    "# 用滑动条做调色板\n",
    "\n",
    "cv2.getTrackbarPos() 函数的一个参数是滑动条的名字，第二个参数\n",
    "是滑动条被放置窗口的名字，第三个参数是滑动条的默认位置。第四个参数是\n",
    "滑动条的最大值，第五个函数是回调函数"
   ]
  },
  {
   "cell_type": "code",
   "execution_count": 9,
   "metadata": {},
   "outputs": [],
   "source": [
    "# -*- coding: utf-8 -*-\n",
    "import cv2\n",
    "import numpy as np\n",
    "def nothing(x):\n",
    "    pass\n",
    "# 创建一副黑色图像\n",
    "img=np.zeros((300,512,3),np.uint8)\n",
    "cv2.namedWindow('image')\n",
    "cv2.createTrackbar('R','image',0,255,nothing)\n",
    "cv2.createTrackbar('G','image',0,255,nothing)\n",
    "cv2.createTrackbar('B','image',0,255,nothing)\n",
    "switch='0:OFF\\n1:ON'\n",
    "cv2.createTrackbar(switch,'image',0,1,nothing)\n",
    "\n",
    "while(1):\n",
    "    cv2.imshow('image',img)\n",
    "    r=cv2.getTrackbarPos('R','image')\n",
    "    g=cv2.getTrackbarPos('G','image')\n",
    "    b=cv2.getTrackbarPos('B','image')\n",
    "    s=cv2.getTrackbarPos(switch,'image')\n",
    "    if s==0:\n",
    "        img[:]=0\n",
    "    else:\n",
    "        img[:]=[b,g,r]\n",
    "\n",
    "    k=cv2.waitKey(1)&0xFF\n",
    "    if k==27:  #Esc键退出\n",
    "        break\n",
    "    \n",
    "cv2.destroyAllWindows()"
   ]
  },
  {
   "cell_type": "markdown",
   "metadata": {},
   "source": [
    "# 局部图像拷贝\n"
   ]
  },
  {
   "cell_type": "code",
   "execution_count": 11,
   "metadata": {},
   "outputs": [],
   "source": [
    "import numpy as np\n",
    "import cv2\n",
    "img=cv2.imread(\"123.jpg\")\n",
    "\n",
    "cv2.namedWindow('image', cv2.WINDOW_NORMAL)\n",
    "\n",
    "cropImg=img[300:400,0:100]\n",
    "\n",
    "img[300:400,500:600]=cropImg\n",
    "\n",
    "cv2.imshow(\"image\",img)\n",
    "\n",
    "cv2.waitKey(0)\n",
    "cv2.destroyAllWindows()"
   ]
  },
  {
   "cell_type": "markdown",
   "metadata": {},
   "source": [
    "# 图像相加拷"
   ]
  },
  {
   "cell_type": "code",
   "execution_count": 13,
   "metadata": {},
   "outputs": [],
   "source": [
    "import numpy as np\n",
    "import cv2\n",
    "img=cv2.imread(\"123.jpg\")\n",
    "\n",
    "cv2.namedWindow('image', cv2.WINDOW_NORMAL)\n",
    "\n",
    "cropImg1=img[300:400,0:100]\n",
    "cropImg2=img[200:300,0:100]\n",
    "\n",
    "img[300:400,500:600]=cv2.add(cropImg1,cropImg2)\n",
    "\n",
    "cv2.imshow(\"image\",img)\n",
    "\n",
    "cv2.waitKey(0)\n",
    "cv2.destroyAllWindows()"
   ]
  },
  {
   "cell_type": "markdown",
   "metadata": {},
   "source": [
    "# 图像加权相加\n",
    "dst=alpa*img1+beta*img2+gama"
   ]
  },
  {
   "cell_type": "code",
   "execution_count": 3,
   "metadata": {},
   "outputs": [],
   "source": [
    "import numpy as np\n",
    "import cv2\n",
    "img=cv2.imread(\"123.jpg\")\n",
    "\n",
    "cv2.namedWindow('image', cv2.WINDOW_NORMAL)\n",
    "\n",
    "cropImg1=img[300:400,0:100]\n",
    "cropImg2=img[200:300,0:100]\n",
    "\n",
    "img[300:400,500:600]=cv2.addWeighted(cropImg1,0.9,cropImg2,0.1,0)\n",
    "\n",
    "cv2.imshow(\"image\",img)\n",
    "\n",
    "cv2.waitKey(0)\n",
    "cv2.destroyAllWindows()"
   ]
  },
  {
   "cell_type": "markdown",
   "metadata": {},
   "source": [
    "# 将Logo 变成灰度图像，用阈值得到轮廓，取反\n",
    "![](batgo.png)\n"
   ]
  },
  {
   "cell_type": "code",
   "execution_count": 3,
   "metadata": {},
   "outputs": [],
   "source": [
    "# -*- coding: utf-8 -*-\n",
    "import cv2\n",
    "import numpy as np\n",
    "# 加载图像\n",
    "img1 = cv2.imread('123.jpg')\n",
    "img2 = cv2.imread('batgo.png')\n",
    "\n",
    "#灰度图像，然后用阈值得到轮廓\n",
    "img2gray = cv2.cvtColor(img2,cv2.COLOR_BGR2GRAY)\n",
    "ret, mask = cv2.threshold(img2gray, 175, 255, cv2.THRESH_BINARY)\n",
    "#按位取反not\n",
    "invmask=cv2.bitwise_not(mask)\n",
    "\n",
    "cv2.imshow(\"logoimg\",img2)\n",
    "cv2.imshow(\"greyimage\",img2gray)\n",
    "cv2.imshow(\"image\",mask)\n",
    "cv2.imshow(\"invimage\",invmask)\n",
    "\n",
    "\n",
    "cv2.waitKey(0)\n",
    "cv2.destroyAllWindows()"
   ]
  },
  {
   "cell_type": "markdown",
   "metadata": {},
   "source": [
    "## 在窗口中心画9个方格"
   ]
  },
  {
   "cell_type": "markdown",
   "metadata": {},
   "source": [
    "# x,y 测试"
   ]
  },
  {
   "cell_type": "code",
   "execution_count": 3,
   "metadata": {},
   "outputs": [
    {
     "name": "stdout",
     "output_type": "stream",
     "text": [
      "640 480\n"
     ]
    }
   ],
   "source": [
    "import numpy as np\n",
    "import cv2\n",
    "cap=cv2.VideoCapture(0)\n",
    "\n",
    "ret,frame = cap.read()\n",
    "\n",
    "SIZE=100\n",
    "\n",
    "#屏幕竖的方向\n",
    "L=len(frame)\n",
    "\n",
    "#屏幕横的方向\n",
    "W=len(frame[0])\n",
    "\n",
    "print(L,W)\n",
    "\n",
    "X0=int(W/2-1.5*SIZE)\n",
    "Y0=int(L/2-1.5*SIZE)\n",
    "\n",
    "while(True):\n",
    "    ret,frame = cap.read()\n",
    "    cv2.rectangle(frame,(630,230),(639,239),(255,128,255),5)  \n",
    "    cv2.imshow('my_frame',frame)\n",
    "    if cv2.waitKey(1000)&0xFF==ord('q'):\n",
    "        break\n",
    "cap.release()\n",
    "cv2.destroyAllWindows()"
   ]
  },
  {
   "cell_type": "markdown",
   "metadata": {},
   "source": [
    "# 中间画9个方格"
   ]
  },
  {
   "cell_type": "code",
   "execution_count": 2,
   "metadata": {},
   "outputs": [
    {
     "name": "stdout",
     "output_type": "stream",
     "text": [
      "480 640\n"
     ]
    }
   ],
   "source": [
    "import numpy as np\n",
    "import cv2\n",
    "\n",
    "cap=cv2.VideoCapture(0)\n",
    "ret,frame = cap.read()\n",
    "\n",
    "L=len(frame)\n",
    "W=len(frame[0])\n",
    "\n",
    "print(L,W)\n",
    "\n",
    "SIZE=100\n",
    "\n",
    "X0=int(W/2-1.5*SIZE)\n",
    "Y0=int(L/2-1.5*SIZE)\n",
    "\n",
    "while(True):\n",
    "    ret,frame = cap.read()\n",
    "    for i in range(3):\n",
    "        for j in range(3):\n",
    "            cv2.rectangle(frame,(i*SIZE+X0,j*SIZE+Y0),(i*SIZE+SIZE+X0,j*SIZE+SIZE+Y0),(255,128,255),5)  \n",
    "    cv2.imshow('frame',frame)\n",
    "    if cv2.waitKey(1000)&0xFF==ord('q'):\n",
    "        break\n",
    "cap.release()\n",
    "cv2.destroyAllWindows()"
   ]
  },
  {
   "cell_type": "markdown",
   "metadata": {},
   "source": [
    "# 鼠标双击则打印出来x，y"
   ]
  },
  {
   "cell_type": "code",
   "execution_count": 2,
   "metadata": {},
   "outputs": [
    {
     "name": "stdout",
     "output_type": "stream",
     "text": [
      "get double click 326 247\n",
      "get double click 436 227\n",
      "get double click 233 332\n"
     ]
    }
   ],
   "source": [
    "import numpy as np\n",
    "import cv2\n",
    "\n",
    "cap=cv2.VideoCapture(0)\n",
    "ret,frame = cap.read()\n",
    "\n",
    "L=len(frame)\n",
    "W=len(frame[0])\n",
    "\n",
    "print(L,W)\n",
    "\n",
    "SIZE=100\n",
    "\n",
    "X0=int(W/2-1.5*SIZE)\n",
    "Y0=int(L/2-1.5*SIZE)\n",
    "\n",
    "def mouse_dclick(event,x,y,flags,param):\n",
    "    if event==cv2.EVENT_LBUTTONDBLCLK:\n",
    "        print(\"get double click\",x,y)\n",
    "        \n",
    "# 创建图像与窗口并将窗口与回调函数绑定\n",
    "cv2.namedWindow('frame')\n",
    "cv2.setMouseCallback('frame',mouse_dclick)\n",
    "\n",
    "while(True):\n",
    "    ret,frame = cap.read()\n",
    "    for i in range(3):\n",
    "        for j in range(3):\n",
    "            cv2.rectangle(frame,(i*SIZE+X0,j*SIZE+Y0),(i*SIZE+SIZE+X0,j*SIZE+SIZE+Y0),(255,128,255),5)  \n",
    "    cv2.imshow('frame',frame)\n",
    "    if cv2.waitKey(1000)&0xFF==ord('q'):\n",
    "        break\n",
    "cap.release()\n",
    "cv2.destroyAllWindows()"
   ]
  },
  {
   "cell_type": "markdown",
   "metadata": {},
   "source": [
    "# 双击鼠标在棋盘相应的位置记录"
   ]
  },
  {
   "cell_type": "code",
   "execution_count": 3,
   "metadata": {},
   "outputs": [
    {
     "name": "stdout",
     "output_type": "stream",
     "text": [
      "[[0, 0, 0], [0, 0, 0], [0, 0, 0]]\n",
      "get double click 334 237\n",
      "1 1\n",
      "[[0, 0, 0], [0, 1, 0], [0, 0, 0]]\n",
      "get double click 334 237\n",
      "1 1\n",
      "[[0, 0, 0], [0, 1, 0], [0, 0, 0]]\n"
     ]
    }
   ],
   "source": [
    "import numpy as np\n",
    "import cv2\n",
    "\n",
    "cap=cv2.VideoCapture(0)\n",
    "ret,frame = cap.read()\n",
    "\n",
    "L=len(frame)\n",
    "W=len(frame[0])\n",
    "\n",
    "print(L,W)\n",
    "\n",
    "SIZE=100\n",
    "\n",
    "X0=int(W/2-1.5*SIZE)\n",
    "Y0=int(L/2-1.5*SIZE)\n",
    "\n",
    "chessboard=[[0,0,0],[0,0,0],[0,0,0]]\n",
    "\n",
    "print(chessboard)\n",
    "\n",
    "def mouse_dclick(event,x,y,flags,param):\n",
    "    if event==cv2.EVENT_LBUTTONDBLCLK:\n",
    "        print(\"get double click\",x,y)\n",
    "        if x>X0 and y>Y0 and x<(X0+SIZE*3) and y<(Y0+SIZE*3):\n",
    "            i=int((x-X0)/SIZE)\n",
    "            j=int((y-Y0)/SIZE)\n",
    "            print(i,j)\n",
    "            chessboard[i][j]=1\n",
    "            print(chessboard)\n",
    "    \n",
    "        \n",
    "# 创建图像与窗口并将窗口与回调函数绑定\n",
    "cv2.namedWindow('frame')\n",
    "cv2.setMouseCallback('frame',mouse_dclick)\n",
    "\n",
    "while(True):\n",
    "    ret,frame = cap.read()\n",
    "    for i in range(3):\n",
    "        for j in range(3):\n",
    "            cv2.rectangle(frame,(i*SIZE+X0,j*SIZE+Y0),(i*SIZE+SIZE+X0,j*SIZE+SIZE+Y0),(255,128,255),5)  \n",
    "    cv2.imshow('frame',frame)\n",
    "    if cv2.waitKey(1000)&0xFF==ord('q'):\n",
    "        break\n",
    "cap.release()\n",
    "cv2.destroyAllWindows()"
   ]
  },
  {
   "cell_type": "markdown",
   "metadata": {},
   "source": [
    "# 双击鼠标在棋盘相应的位置记录，如果有棋子则画圆"
   ]
  },
  {
   "cell_type": "code",
   "execution_count": 1,
   "metadata": {},
   "outputs": [
    {
     "name": "stdout",
     "output_type": "stream",
     "text": [
      "480 640\n",
      "[[0, 0, 0], [0, 0, 0], [0, 0, 0]]\n",
      "get double click 335 251\n",
      "1 1\n",
      "[[0, 0, 0], [0, 1, 0], [0, 0, 0]]\n",
      "get double click 335 251\n",
      "1 1\n",
      "[[0, 0, 0], [0, 1, 0], [0, 0, 0]]\n",
      "get double click 330 155\n",
      "1 0\n",
      "[[0, 0, 0], [1, 1, 0], [0, 0, 0]]\n",
      "get double click 245 152\n",
      "0 0\n",
      "[[1, 0, 0], [1, 1, 0], [0, 0, 0]]\n"
     ]
    }
   ],
   "source": [
    "import numpy as np\n",
    "import cv2\n",
    "\n",
    "cap=cv2.VideoCapture(0)\n",
    "ret,frame = cap.read()\n",
    "\n",
    "L=len(frame)\n",
    "W=len(frame[0])\n",
    "\n",
    "print(L,W)\n",
    "\n",
    "SIZE=100\n",
    "\n",
    "X0=int(W/2-1.5*SIZE)\n",
    "Y0=int(L/2-1.5*SIZE)\n",
    "\n",
    "\n",
    "chessboard=[[0,0,0],[0,0,0],[0,0,0]]\n",
    "\n",
    "print(chessboard)\n",
    "\n",
    "def mouse_dclick(event,x,y,flags,param):\n",
    "    if event==cv2.EVENT_LBUTTONDBLCLK:\n",
    "        print(\"get double click\",x,y)\n",
    "        if x>X0 and y>Y0 and x<(X0+SIZE*3) and y<(Y0+SIZE*3):\n",
    "            i=int((x-X0)/SIZE)\n",
    "            j=int((y-Y0)/SIZE)\n",
    "            print(i,j)\n",
    "            chessboard[i][j]=1\n",
    "            print(chessboard)\n",
    "    \n",
    "        \n",
    "# 创建图像与窗口并将窗口与回调函数绑定\n",
    "cv2.namedWindow('frame')\n",
    "cv2.setMouseCallback('frame',mouse_dclick)\n",
    "\n",
    "while(True):\n",
    "    ret,frame = cap.read()\n",
    "    for i in range(3):\n",
    "        for j in range(3):\n",
    "            cv2.rectangle(frame,(i*SIZE+X0,j*SIZE+Y0),(i*SIZE+SIZE+X0,j*SIZE+SIZE+Y0),(255,128,255),2)\n",
    "            if chessboard[i][j]==1:\n",
    "                R=int(SIZE/2)\n",
    "                cv2.circle(frame,(i*SIZE+X0+R,j*SIZE+Y0+R),R,(255,0,0),-1)\n",
    "                \n",
    "    cv2.imshow('frame',frame)\n",
    "    if cv2.waitKey(1000)&0xFF==ord('q'):\n",
    "        break\n",
    "cap.release()\n",
    "cv2.destroyAllWindows()"
   ]
  },
  {
   "cell_type": "code",
   "execution_count": null,
   "metadata": {},
   "outputs": [],
   "source": []
  }
 ],
 "metadata": {
  "kernelspec": {
   "display_name": "Python 3",
   "language": "python",
   "name": "python3"
  },
  "language_info": {
   "codemirror_mode": {
    "name": "ipython",
    "version": 3
   },
   "file_extension": ".py",
   "mimetype": "text/x-python",
   "name": "python",
   "nbconvert_exporter": "python",
   "pygments_lexer": "ipython3",
   "version": "3.7.0"
  }
 },
 "nbformat": 4,
 "nbformat_minor": 2
}
